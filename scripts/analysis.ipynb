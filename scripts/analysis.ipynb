{
 "cells": [
  {
   "cell_type": "code",
   "execution_count": 28,
   "id": "2c8dfcab",
   "metadata": {},
   "outputs": [],
   "source": [
    "import numpy as np\n",
    "import matplotlib.pyplot as plt\n",
    "from pyspark.sql import SparkSession\n",
    "from pyspark.ml.linalg import Vectors"
   ]
  },
  {
   "cell_type": "code",
   "execution_count": 11,
   "id": "db2ab761",
   "metadata": {},
   "outputs": [],
   "source": [
    "spark = SparkSession.builder \\\n",
    "    .appName(\"mkt_analysis\") \\\n",
    "    .getOrCreate()"
   ]
  },
  {
   "cell_type": "code",
   "execution_count": 24,
   "id": "9aaf49ff",
   "metadata": {},
   "outputs": [],
   "source": [
    "# Read a CSV file with header\n",
    "df = spark.read.option(\"header\", \"true\").csv(\"../data/Advertising_Data.csv\")\n",
    "\n",
    "# Additional options\n",
    "df = spark.read \\\n",
    "    .option(\"header\", \"true\") \\\n",
    "    .option(\"inferSchema\", \"true\") \\\n",
    "    .option(\"delimiter\", \",\") \\\n",
    "    .csv(\"../data/Advertising_Data.csv\")"
   ]
  },
  {
   "cell_type": "code",
   "execution_count": 25,
   "id": "70e73b92",
   "metadata": {},
   "outputs": [
    {
     "name": "stdout",
     "output_type": "stream",
     "text": [
      "+------+----------+----------+------------+--------------------+-------------------+------------+\n",
      "|    TV|Billboards|Google_Ads|Social_Media|Influencer_Marketing|Affiliate_Marketing|Product_Sold|\n",
      "+------+----------+----------+------------+--------------------+-------------------+------------+\n",
      "|281.42|     538.8|    123.94|       349.3|              242.77|              910.1|      7164.0|\n",
      "|702.97|    296.53|    558.13|      180.55|              781.06|             132.43|      5055.0|\n",
      "|313.14|    295.94|    642.96|      505.71|              438.91|             464.23|      6154.0|\n",
      "|898.52|     61.27|    548.73|      240.93|              278.96|             432.27|      5480.0|\n",
      "|766.52|    550.72|    651.91|      666.33|              396.33|             841.93|      9669.0|\n",
      "|507.13|    612.27|    230.67|      142.96|              171.79|             965.77|      7627.0|\n",
      "|486.64|    555.02|    203.26|      271.62|               70.04|             366.25|      5177.0|\n",
      "|762.09|    184.57|    176.61|       97.85|              116.67|             251.74|      3726.0|\n",
      "| 638.6|    778.31|    796.32|      759.04|              857.13|             515.16|      9801.0|\n",
      "|591.48|    542.51|    400.23|      329.15|              577.38|             931.65|      8652.0|\n",
      "+------+----------+----------+------------+--------------------+-------------------+------------+\n",
      "only showing top 10 rows\n",
      "\n"
     ]
    }
   ],
   "source": [
    "df.show(10)"
   ]
  }
 ],
 "metadata": {
  "kernelspec": {
   "display_name": "Python 3",
   "language": "python",
   "name": "python3"
  },
  "language_info": {
   "codemirror_mode": {
    "name": "ipython",
    "version": 3
   },
   "file_extension": ".py",
   "mimetype": "text/x-python",
   "name": "python",
   "nbconvert_exporter": "python",
   "pygments_lexer": "ipython3",
   "version": "3.12.10"
  }
 },
 "nbformat": 4,
 "nbformat_minor": 5
}
